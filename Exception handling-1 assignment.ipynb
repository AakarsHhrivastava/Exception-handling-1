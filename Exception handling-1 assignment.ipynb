{
 "cells": [
  {
   "cell_type": "markdown",
   "id": "c94dcb08-6238-4174-a3b1-c3e5d1d6f567",
   "metadata": {},
   "source": [
    "### QL What is an Exception in python? Write the difference between Exceptions and Syntax errors.\n"
   ]
  },
  {
   "cell_type": "code",
   "execution_count": 1,
   "id": "6934658f-b614-482a-8669-7b6c05836ea3",
   "metadata": {},
   "outputs": [],
   "source": [
    "#In Python, an exception is an event that occurs during the execution of a program and disrupts the normal flow of the program's instructions. When an exceptional situation is encountered, Python raises an exception, which can then be caught and handled by the program. Exceptions allow you to handle errors, exceptional conditions, or other unexpected events that may occur during program execution."
   ]
  },
  {
   "cell_type": "code",
   "execution_count": 2,
   "id": "7786c79a-7e76-4777-b885-4c15851aca94",
   "metadata": {},
   "outputs": [],
   "source": [
    "#Here are the key differences between exceptions and syntax errors:\n",
    "#Occurrence: Exceptions occur during the execution of a program when an exceptional condition is encountered, while syntax errors are detected by the interpreter before the program execution begins.\n",
    "#Timing: Exceptions can occur at any point during program execution when a specific condition is met, whereas syntax errors prevent the program from running due to invalid syntax.\n",
    "#Handling: Exceptions can be caught and handled using try-except blocks to gracefully handle the exceptional condition and continue program execution. Syntax errors cannot be caught or handled as they prevent the program from running in the first place.\n",
    "#Causes: Exceptions are typically caused by runtime errors or logical errors in the program's code, while syntax errors are caused by violating the syntax rules of the Python language."
   ]
  },
  {
   "cell_type": "markdown",
   "id": "555340ed-9e86-409b-8d63-5bcce6f5af93",
   "metadata": {},
   "source": [
    "### Q2. What happens when an exception is not handled? Explain with an example.\n"
   ]
  },
  {
   "cell_type": "code",
   "execution_count": 3,
   "id": "5beef9c8-40a4-48b4-b65e-85a1dcc4d412",
   "metadata": {},
   "outputs": [],
   "source": [
    "#When an exception is not handled in a program, it leads to the termination of the program and an error message is displayed to the user. This error message provides information about the unhandled exception, including its type, traceback, and the line of code where the exception occurred."
   ]
  },
  {
   "cell_type": "code",
   "execution_count": 4,
   "id": "4c1f1ac6-c6f6-48fa-be01-f7cbe059c4ed",
   "metadata": {},
   "outputs": [
    {
     "ename": "ZeroDivisionError",
     "evalue": "division by zero",
     "output_type": "error",
     "traceback": [
      "\u001b[0;31m---------------------------------------------------------------------------\u001b[0m",
      "\u001b[0;31mZeroDivisionError\u001b[0m                         Traceback (most recent call last)",
      "Cell \u001b[0;32mIn[4], line 2\u001b[0m\n\u001b[1;32m      1\u001b[0m \u001b[38;5;28;01mtry\u001b[39;00m:\n\u001b[0;32m----> 2\u001b[0m     x \u001b[38;5;241m=\u001b[39m \u001b[38;5;241;43m10\u001b[39;49m\u001b[43m \u001b[49m\u001b[38;5;241;43m/\u001b[39;49m\u001b[43m \u001b[49m\u001b[38;5;241;43m0\u001b[39;49m  \n\u001b[1;32m      3\u001b[0m     \u001b[38;5;28mprint\u001b[39m(\u001b[38;5;124m\"\u001b[39m\u001b[38;5;124mThis line will not be executed\u001b[39m\u001b[38;5;124m\"\u001b[39m)\n\u001b[1;32m      5\u001b[0m \u001b[38;5;28;01mexcept\u001b[39;00m \u001b[38;5;167;01mValueError\u001b[39;00m:\n",
      "\u001b[0;31mZeroDivisionError\u001b[0m: division by zero"
     ]
    }
   ],
   "source": [
    "try:\n",
    "    x = 10 / 0  \n",
    "    print(\"This line will not be executed\")\n",
    "\n",
    "except ValueError:\n",
    "    print(\"Caught a ValueError\")\n",
    "\n",
    "print(\"Program continues executing after the exception\")"
   ]
  },
  {
   "cell_type": "markdown",
   "id": "9ad52d8e-24c7-42f9-90d3-93ae4df35dbd",
   "metadata": {},
   "source": [
    "### Q3. Which Python statements are used to catch and handle exceptions? Explain with an example.\n"
   ]
  },
  {
   "cell_type": "code",
   "execution_count": 5,
   "id": "65bc21e7-e43e-4762-b998-4b818f85ac8b",
   "metadata": {},
   "outputs": [],
   "source": [
    "#In Python, the try-except statement is used to catch and handle exceptions"
   ]
  },
  {
   "cell_type": "code",
   "execution_count": 7,
   "id": "ef96cbc4-804c-48df-b16e-ec205c0b6fc8",
   "metadata": {},
   "outputs": [
    {
     "name": "stdin",
     "output_type": "stream",
     "text": [
      "Enter a number:  2\n"
     ]
    },
    {
     "name": "stdout",
     "output_type": "stream",
     "text": [
      "Result: 5.0\n"
     ]
    }
   ],
   "source": [
    "try:\n",
    "    x = int(input(\"Enter a number: \")) \n",
    "    result = 10 / x  \n",
    "    print(\"Result:\", result)\n",
    "except ValueError:\n",
    "    print(\"Invalid input! Please enter a valid number.\")\n",
    "except ZeroDivisionError:\n",
    "    print(\"Cannot divide by zero!\")"
   ]
  },
  {
   "cell_type": "code",
   "execution_count": 8,
   "id": "ee69c838-f842-42a5-a96b-be9b2138adf1",
   "metadata": {},
   "outputs": [
    {
     "name": "stdin",
     "output_type": "stream",
     "text": [
      "Enter a number:  0\n"
     ]
    },
    {
     "name": "stdout",
     "output_type": "stream",
     "text": [
      "Cannot divide by zero!\n"
     ]
    }
   ],
   "source": [
    "try:\n",
    "    x = int(input(\"Enter a number: \")) \n",
    "    result = 10 / x  \n",
    "    print(\"Result:\", result)\n",
    "except ValueError:\n",
    "    print(\"Invalid input! Please enter a valid number.\")\n",
    "except ZeroDivisionError:\n",
    "    print(\"Cannot divide by zero!\")"
   ]
  },
  {
   "cell_type": "code",
   "execution_count": 9,
   "id": "e1368a66-d206-402a-8e66-b08b4c54a97d",
   "metadata": {},
   "outputs": [
    {
     "name": "stdin",
     "output_type": "stream",
     "text": [
      "Enter a number:  t\n"
     ]
    },
    {
     "name": "stdout",
     "output_type": "stream",
     "text": [
      "Invalid input! Please enter a valid number.\n"
     ]
    }
   ],
   "source": [
    "try:\n",
    "    x = int(input(\"Enter a number: \")) \n",
    "    result = 10 / x  \n",
    "    print(\"Result:\", result)\n",
    "except ValueError:\n",
    "    print(\"Invalid input! Please enter a valid number.\")\n",
    "except ZeroDivisionError:\n",
    "    print(\"Cannot divide by zero!\")"
   ]
  },
  {
   "cell_type": "markdown",
   "id": "e95842f1-87d4-4044-9be4-c31aa03718c5",
   "metadata": {},
   "source": [
    "### Q4. Explain with an example: a. try and else b. finally c. raise"
   ]
  },
  {
   "cell_type": "code",
   "execution_count": 10,
   "id": "e2e35084-efa1-41a7-ae6f-1fc838ef9561",
   "metadata": {},
   "outputs": [],
   "source": [
    "#a. try and else:\n",
    "#The else block in Python's try-except statement is used to define a code block that executes only if no exception occurs in the preceding try block. It provides a way to specify alternative code to be executed when the try block completes successfully, without any exceptions being raised. Here's an example to illustrate its usage:"
   ]
  },
  {
   "cell_type": "code",
   "execution_count": 12,
   "id": "2daf4564-8021-405c-8602-f7d8f5173134",
   "metadata": {},
   "outputs": [
    {
     "name": "stdin",
     "output_type": "stream",
     "text": [
      "enter first number:  10\n",
      "enter second number:  5\n"
     ]
    },
    {
     "name": "stdout",
     "output_type": "stream",
     "text": [
      "the division is:  2.0\n"
     ]
    }
   ],
   "source": [
    "try :\n",
    "    num1 = int(input(\"enter first number: \"))\n",
    "    num2 = int(input(\"enter second number: \"))\n",
    "    result = num1/num2\n",
    "except ValueError:\n",
    "    print(\"invalid input, please enter valid numbers\")\n",
    "except ZeroDivisionError:\n",
    "    print(\"cannot divide by zero\")\n",
    "else:\n",
    "    print(\"the division is: \", result)"
   ]
  },
  {
   "cell_type": "code",
   "execution_count": 13,
   "id": "efe1a985-41fc-42db-9ea4-ee50edcebf92",
   "metadata": {},
   "outputs": [],
   "source": [
    "#b. finally:\n",
    "#The finally block in Python's try-except statement is used to define a code block that always executes, regardless of whether an exception occurred or not. It is commonly used to perform cleanup operations or release resources. Here's an example to illustrate its usage:"
   ]
  },
  {
   "cell_type": "code",
   "execution_count": 14,
   "id": "c77c8dc4-a901-4490-9301-407a80b95ef1",
   "metadata": {},
   "outputs": [
    {
     "name": "stdout",
     "output_type": "stream",
     "text": [
      "finally will execute itself in any situation\n"
     ]
    },
    {
     "ename": "FileNotFoundError",
     "evalue": "[Errno 2] No such file or directory: 'test3.txt'",
     "output_type": "error",
     "traceback": [
      "\u001b[0;31m---------------------------------------------------------------------------\u001b[0m",
      "\u001b[0;31mFileNotFoundError\u001b[0m                         Traceback (most recent call last)",
      "Cell \u001b[0;32mIn[14], line 2\u001b[0m\n\u001b[1;32m      1\u001b[0m \u001b[38;5;28;01mtry\u001b[39;00m :\n\u001b[0;32m----> 2\u001b[0m     f \u001b[38;5;241m=\u001b[39m \u001b[38;5;28;43mopen\u001b[39;49m\u001b[43m(\u001b[49m\u001b[38;5;124;43m\"\u001b[39;49m\u001b[38;5;124;43mtest3.txt\u001b[39;49m\u001b[38;5;124;43m\"\u001b[39;49m\u001b[43m,\u001b[49m\u001b[38;5;124;43m'\u001b[39;49m\u001b[38;5;124;43mr\u001b[39;49m\u001b[38;5;124;43m'\u001b[39;49m\u001b[43m)\u001b[49m\n\u001b[1;32m      3\u001b[0m     f\u001b[38;5;241m.\u001b[39mwrite(\u001b[38;5;124m\"\u001b[39m\u001b[38;5;124mwrite something\u001b[39m\u001b[38;5;124m\"\u001b[39m)\n\u001b[1;32m      4\u001b[0m \u001b[38;5;28;01mfinally\u001b[39;00m :\n",
      "File \u001b[0;32m/opt/conda/lib/python3.10/site-packages/IPython/core/interactiveshell.py:282\u001b[0m, in \u001b[0;36m_modified_open\u001b[0;34m(file, *args, **kwargs)\u001b[0m\n\u001b[1;32m    275\u001b[0m \u001b[38;5;28;01mif\u001b[39;00m file \u001b[38;5;129;01min\u001b[39;00m {\u001b[38;5;241m0\u001b[39m, \u001b[38;5;241m1\u001b[39m, \u001b[38;5;241m2\u001b[39m}:\n\u001b[1;32m    276\u001b[0m     \u001b[38;5;28;01mraise\u001b[39;00m \u001b[38;5;167;01mValueError\u001b[39;00m(\n\u001b[1;32m    277\u001b[0m         \u001b[38;5;124mf\u001b[39m\u001b[38;5;124m\"\u001b[39m\u001b[38;5;124mIPython won\u001b[39m\u001b[38;5;124m'\u001b[39m\u001b[38;5;124mt let you open fd=\u001b[39m\u001b[38;5;132;01m{\u001b[39;00mfile\u001b[38;5;132;01m}\u001b[39;00m\u001b[38;5;124m by default \u001b[39m\u001b[38;5;124m\"\u001b[39m\n\u001b[1;32m    278\u001b[0m         \u001b[38;5;124m\"\u001b[39m\u001b[38;5;124mas it is likely to crash IPython. If you know what you are doing, \u001b[39m\u001b[38;5;124m\"\u001b[39m\n\u001b[1;32m    279\u001b[0m         \u001b[38;5;124m\"\u001b[39m\u001b[38;5;124myou can use builtins\u001b[39m\u001b[38;5;124m'\u001b[39m\u001b[38;5;124m open.\u001b[39m\u001b[38;5;124m\"\u001b[39m\n\u001b[1;32m    280\u001b[0m     )\n\u001b[0;32m--> 282\u001b[0m \u001b[38;5;28;01mreturn\u001b[39;00m \u001b[43mio_open\u001b[49m\u001b[43m(\u001b[49m\u001b[43mfile\u001b[49m\u001b[43m,\u001b[49m\u001b[43m \u001b[49m\u001b[38;5;241;43m*\u001b[39;49m\u001b[43margs\u001b[49m\u001b[43m,\u001b[49m\u001b[43m \u001b[49m\u001b[38;5;241;43m*\u001b[39;49m\u001b[38;5;241;43m*\u001b[39;49m\u001b[43mkwargs\u001b[49m\u001b[43m)\u001b[49m\n",
      "\u001b[0;31mFileNotFoundError\u001b[0m: [Errno 2] No such file or directory: 'test3.txt'"
     ]
    }
   ],
   "source": [
    "try :\n",
    "    f = open(\"test3.txt\",'r')\n",
    "    f.write(\"write something\")\n",
    "finally :\n",
    "    print(\"finally will execute itself in any situation\")"
   ]
  },
  {
   "cell_type": "code",
   "execution_count": 15,
   "id": "b355a9b4-86e5-4a59-8ea2-9f603d2bb36c",
   "metadata": {},
   "outputs": [],
   "source": [
    "#c. raise:The raise statement in Python is used to explicitly raise an exception. It allows you to create and raise custom exceptions or re-raise exceptions that were caught but need to be propagated further. Here's an example to illustrate its usage\n"
   ]
  },
  {
   "cell_type": "code",
   "execution_count": 17,
   "id": "300f70dd-8b2d-4479-b78d-c383c89b78b9",
   "metadata": {},
   "outputs": [
    {
     "name": "stdout",
     "output_type": "stream",
     "text": [
      "Cannot divide by zero!\n"
     ]
    }
   ],
   "source": [
    "def divide_numbers(num1, num2):\n",
    "    if num2 == 0:\n",
    "        raise ZeroDivisionError(\"Cannot divide by zero!\")\n",
    "    else:\n",
    "        return num1 / num2\n",
    "\n",
    "try:\n",
    "    result = divide_numbers(10, 0)\n",
    "except ZeroDivisionError as e:\n",
    "    print(e)"
   ]
  },
  {
   "cell_type": "markdown",
   "id": "2e0652c3-6a36-45e8-911e-29b5f441ed47",
   "metadata": {},
   "source": [
    "### Q5. What are Custom Exceptions in python? Why do we need Custom Exceptions? Explain with an example.\n"
   ]
  },
  {
   "cell_type": "code",
   "execution_count": 18,
   "id": "fde61fe5-014b-4c63-af87-b5307468da22",
   "metadata": {},
   "outputs": [],
   "source": [
    "#Custom exceptions in Python are user-defined exceptions that extend the base Exception class or any of its subclasses. By creating custom exceptions, you can define your own exceptional conditions and handle them in a specialized way. Custom exceptions help make your code more readable, maintainable, and expressive by providing specific error messages and allowing you to handle different exceptional situations differently."
   ]
  },
  {
   "cell_type": "code",
   "execution_count": 19,
   "id": "342185fb-049f-4fea-8464-5e83fa9a832e",
   "metadata": {},
   "outputs": [],
   "source": [
    "class validateage(Exception):\n",
    "    \n",
    "    def __init__(self , msg) : \n",
    "        self.msg = msg"
   ]
  },
  {
   "cell_type": "code",
   "execution_count": 20,
   "id": "be943755-dfa4-49a2-a0e8-0716c53e35fd",
   "metadata": {},
   "outputs": [],
   "source": [
    "def validaetage(age) : \n",
    "    if age < 0 :\n",
    "        raise validateage(\"entered age is negative \" )\n",
    "    elif age > 200 : \n",
    "        raise validateage(\"enterd age is very very high \" )\n",
    "    else :\n",
    "        print(\"age is valid\" )"
   ]
  },
  {
   "cell_type": "code",
   "execution_count": 21,
   "id": "4ced609d-39df-47c2-b604-90a1b4113098",
   "metadata": {},
   "outputs": [
    {
     "name": "stdin",
     "output_type": "stream",
     "text": [
      "enter your age 444\n"
     ]
    },
    {
     "name": "stdout",
     "output_type": "stream",
     "text": [
      "enterd age is very very high \n"
     ]
    }
   ],
   "source": [
    "try :\n",
    "    age = int(input(\"enter your age\" ))\n",
    "    validaetage(age)\n",
    "except validateage as e :\n",
    "    print(e)"
   ]
  },
  {
   "cell_type": "markdown",
   "id": "477bfc8d-d913-4900-ada4-8e4273980a95",
   "metadata": {},
   "source": [
    "### Q6. Create a custom exception class. Use this class to handle an exception."
   ]
  },
  {
   "cell_type": "code",
   "execution_count": 22,
   "id": "bc3ce05b-6a25-44f3-99e1-9e41426ca66a",
   "metadata": {},
   "outputs": [
    {
     "name": "stdout",
     "output_type": "stream",
     "text": [
      "CustomException: Cannot divide by zero!\n"
     ]
    }
   ],
   "source": [
    "class CustomException(Exception):\n",
    "    \n",
    "\n",
    "    def __init__(self, message):\n",
    "        self.message = message\n",
    "\n",
    "    def __str__(self):\n",
    "        return f\"CustomException: {self.message}\"\n",
    "\n",
    "\n",
    "def divide_numbers(num1, num2):\n",
    "    if num2 == 0:\n",
    "        raise CustomException(\"Cannot divide by zero!\")\n",
    "    else:\n",
    "        return num1 / num2\n",
    "\n",
    "\n",
    "try:\n",
    "    result = divide_numbers(10, 0)\n",
    "except CustomException as e:\n",
    "    print(e)"
   ]
  },
  {
   "cell_type": "code",
   "execution_count": null,
   "id": "f44e79fd-186d-4045-936a-d19c25980613",
   "metadata": {},
   "outputs": [],
   "source": []
  }
 ],
 "metadata": {
  "kernelspec": {
   "display_name": "Python 3 (ipykernel)",
   "language": "python",
   "name": "python3"
  },
  "language_info": {
   "codemirror_mode": {
    "name": "ipython",
    "version": 3
   },
   "file_extension": ".py",
   "mimetype": "text/x-python",
   "name": "python",
   "nbconvert_exporter": "python",
   "pygments_lexer": "ipython3",
   "version": "3.10.8"
  }
 },
 "nbformat": 4,
 "nbformat_minor": 5
}
